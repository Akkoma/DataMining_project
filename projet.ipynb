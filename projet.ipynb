{
 "cells": [
  {
   "cell_type": "markdown",
   "metadata": {},
   "source": [
    "# **Collecte de données**"
   ]
  },
  {
   "cell_type": "code",
   "execution_count": 23,
   "metadata": {},
   "outputs": [],
   "source": [
    "import os, sys\n",
    "from PIL import Image\n",
    "from PIL.ExifTags import TAGS\n",
    "chemin_image='./cattt'\n",
    "for fichier in os.listdir(chemin_image):\n",
    "    if fichier.endswith('.jpg') :\n",
    "        filepath = os.path.join(chemin_image, fichier)\n",
    "        try:\n",
    "            imgfile = Image.open(filepath)\n",
    "            # Recupérer les métadonnées EXIF\n",
    "            exif_data = imgfile._getexif()\n",
    "            if exif_data is None:\n",
    "                 continue\n",
    "            if exif_data:\n",
    "                print(\"Métadonnées pour l'image {filename}:\")\n",
    "            for tag,value in exif_data.items():\n",
    "                if tag in TAGS:\n",
    "                    print(f\"{TAGS[tag]}: {value}\")\n",
    "                else:\n",
    "                    print(f\"Aucune métadonné EXIF disponible pour l'image {imgfile}.\")\n",
    "        except (OSError, AttributeError)as e:\n",
    "                print(f\"Impossible de traiter l'image {imgfile}.{e}\")\n",
    "\n"
   ]
  },
  {
   "cell_type": "markdown",
   "metadata": {},
   "source": [
    "Nous n'avons aucune image avec un exif donc nous passons par uen autre méthode"
   ]
  },
  {
   "cell_type": "code",
   "execution_count": 1,
   "metadata": {},
   "outputs": [],
   "source": [
    "import os, sys\n",
    "from PIL import Image\n",
    "from PIL.ExifTags import TAGS\n",
    "\n",
    "chemin_image='./cattt'\n",
    "chemin_json='./metadonnees_images.json'\n",
    "\n",
    "metadatalist=[]\n",
    "\n",
    "for fichier in os.listdir(chemin_image):\n",
    "    if fichier.endswith('.jpg') :\n",
    "        filepath = os.path.join(chemin_image, fichier)\n",
    "        try:\n",
    "            img = Image.open(filepath)\n",
    "            metadata={\n",
    "                 'file_name': fichier,\n",
    "                 'size': img.size,\n",
    "                 'format': img.format,\n",
    "                 'mode': img.mode,\n",
    "                 'exif': None\n",
    "            }\n",
    "\n",
    "            metadatalist.append(metadata)\n",
    "\n",
    "        except (OSError, AttributeError)as e:\n",
    "                print(f\"Impossible de traiter l'image {imgfile}.{e}\")"
   ]
  },
  {
   "cell_type": "code",
   "execution_count": null,
   "metadata": {},
   "outputs": [],
   "source": []
  },
  {
   "cell_type": "code",
   "execution_count": 9,
   "metadata": {},
   "outputs": [
    {
     "ename": "FileNotFoundError",
     "evalue": "[Errno 2] No such file or directory: '00000016_022.jpg'",
     "output_type": "error",
     "traceback": [
      "\u001b[0;31m---------------------------------------------------------------------------\u001b[0m",
      "\u001b[0;31mFileNotFoundError\u001b[0m                         Traceback (most recent call last)",
      "Cell \u001b[0;32mIn[9], line 13\u001b[0m\n\u001b[1;32m     11\u001b[0m \u001b[38;5;28;01mif\u001b[39;00m fichier\u001b[38;5;241m.\u001b[39mendswith(\u001b[38;5;124m'\u001b[39m\u001b[38;5;124m.jpg\u001b[39m\u001b[38;5;124m'\u001b[39m) :\n\u001b[1;32m     12\u001b[0m     filepath \u001b[38;5;241m=\u001b[39m os\u001b[38;5;241m.\u001b[39mpath\u001b[38;5;241m.\u001b[39mjoin(chemin_image, fichier)\n\u001b[0;32m---> 13\u001b[0m     imgfile \u001b[38;5;241m=\u001b[39m \u001b[43mImage\u001b[49m\u001b[38;5;241;43m.\u001b[39;49m\u001b[43mopen\u001b[49m\u001b[43m(\u001b[49m\u001b[43mfichier\u001b[49m\u001b[43m)\u001b[49m\n\u001b[1;32m     14\u001b[0m     numarray \u001b[38;5;241m=\u001b[39m numpy\u001b[38;5;241m.\u001b[39marray(imgfile\u001b[38;5;241m.\u001b[39mgetdata(), numpy\u001b[38;5;241m.\u001b[39muint8)\n\u001b[1;32m     15\u001b[0m     clusters \u001b[38;5;241m=\u001b[39m KMeans(n_clusters\u001b[38;5;241m=\u001b[39m\u001b[38;5;241m4\u001b[39m, n_init\u001b[38;5;241m=\u001b[39m\u001b[38;5;241m2\u001b[39m)\n",
      "File \u001b[0;32m/mnt/home/users/alix.degironde/documents/ROSE/DataMinning/data_venv/lib/python3.10/site-packages/PIL/Image.py:3247\u001b[0m, in \u001b[0;36mopen\u001b[0;34m(fp, mode, formats)\u001b[0m\n\u001b[1;32m   3244\u001b[0m     filename \u001b[38;5;241m=\u001b[39m fp\n\u001b[1;32m   3246\u001b[0m \u001b[38;5;28;01mif\u001b[39;00m filename:\n\u001b[0;32m-> 3247\u001b[0m     fp \u001b[38;5;241m=\u001b[39m \u001b[43mbuiltins\u001b[49m\u001b[38;5;241;43m.\u001b[39;49m\u001b[43mopen\u001b[49m\u001b[43m(\u001b[49m\u001b[43mfilename\u001b[49m\u001b[43m,\u001b[49m\u001b[43m \u001b[49m\u001b[38;5;124;43m\"\u001b[39;49m\u001b[38;5;124;43mrb\u001b[39;49m\u001b[38;5;124;43m\"\u001b[39;49m\u001b[43m)\u001b[49m\n\u001b[1;32m   3248\u001b[0m     exclusive_fp \u001b[38;5;241m=\u001b[39m \u001b[38;5;28;01mTrue\u001b[39;00m\n\u001b[1;32m   3250\u001b[0m \u001b[38;5;28;01mtry\u001b[39;00m:\n",
      "\u001b[0;31mFileNotFoundError\u001b[0m: [Errno 2] No such file or directory: '00000016_022.jpg'"
     ]
    }
   ],
   "source": [
    "from PIL import Image\n",
    "import numpy\n",
    "import math\n",
    "import matplotlib.pyplot as plot\n",
    "import os\n",
    "from sklearn.cluster import KMeans\n",
    "\n",
    "chemin_image='./cattt'\n",
    "\n",
    "for fichier in os.listdir(chemin_image):\n",
    "    if fichier.endswith('.jpg') :\n",
    "        filepath = os.path.join(chemin_image, fichier)\n",
    "        imgfile = Image.open(fichier)\n",
    "        numarray = numpy.array(imgfile.getdata(), numpy.uint8)\n",
    "        clusters = KMeans(n_clusters=4, n_init=2)\n",
    "        clusters.fit(numarray)\n",
    "        npbins = numpy.arange(0, 5)\n",
    "        histogram = numpy.histogram(clusters.labels_, bins=npbins)\n",
    "        labels = numpy.unique(clusters.labels_)\n",
    "        barlist = plot.bar(labels, histogram[0])\n",
    "        for i in range(4):\n",
    "            barlist[i].set_color(\n",
    "                \"#%02x%02x%02x\"\n",
    "                % (\n",
    "                    math.ceil(clusters.cluster_centers_[i][0]),\n",
    "                    math.ceil(clusters.cluster_centers_[i][1]),\n",
    "                    math.ceil(clusters.cluster_centers_[i][2]),\n",
    "                )\n",
    "            )\n",
    "plot.show()\n",
    "\n"
   ]
  },
  {
   "cell_type": "code",
   "execution_count": null,
   "metadata": {},
   "outputs": [],
   "source": []
  },
  {
   "cell_type": "markdown",
   "metadata": {},
   "source": [
    "Visualisation des données "
   ]
  },
  {
   "cell_type": "code",
   "execution_count": 10,
   "metadata": {},
   "outputs": [
    {
     "ename": "FileNotFoundError",
     "evalue": "[Errno 2] No such file or directory: '00000016_022.jpg'",
     "output_type": "error",
     "traceback": [
      "\u001b[0;31m---------------------------------------------------------------------------\u001b[0m",
      "\u001b[0;31mFileNotFoundError\u001b[0m                         Traceback (most recent call last)",
      "Cell \u001b[0;32mIn[10], line 11\u001b[0m\n\u001b[1;32m      9\u001b[0m \u001b[38;5;28;01mif\u001b[39;00m fichier\u001b[38;5;241m.\u001b[39mendswith(\u001b[38;5;124m'\u001b[39m\u001b[38;5;124m.jpg\u001b[39m\u001b[38;5;124m'\u001b[39m) :\n\u001b[1;32m     10\u001b[0m     filepath \u001b[38;5;241m=\u001b[39m os\u001b[38;5;241m.\u001b[39mpath\u001b[38;5;241m.\u001b[39mjoin(chemin_image, fichier)\n\u001b[0;32m---> 11\u001b[0m     imgfile \u001b[38;5;241m=\u001b[39m \u001b[43mImage\u001b[49m\u001b[38;5;241;43m.\u001b[39;49m\u001b[43mopen\u001b[49m\u001b[43m(\u001b[49m\u001b[43mfichier\u001b[49m\u001b[43m)\u001b[49m\n\u001b[1;32m     12\u001b[0m     histogram \u001b[38;5;241m=\u001b[39m imgfile\u001b[38;5;241m.\u001b[39mhistogram()\n\u001b[1;32m     13\u001b[0m     red \u001b[38;5;241m=\u001b[39m histogram[\u001b[38;5;241m0\u001b[39m:\u001b[38;5;241m255\u001b[39m]\n",
      "File \u001b[0;32m/mnt/home/users/alix.degironde/documents/ROSE/DataMinning/data_venv/lib/python3.10/site-packages/PIL/Image.py:3247\u001b[0m, in \u001b[0;36mopen\u001b[0;34m(fp, mode, formats)\u001b[0m\n\u001b[1;32m   3244\u001b[0m     filename \u001b[38;5;241m=\u001b[39m fp\n\u001b[1;32m   3246\u001b[0m \u001b[38;5;28;01mif\u001b[39;00m filename:\n\u001b[0;32m-> 3247\u001b[0m     fp \u001b[38;5;241m=\u001b[39m \u001b[43mbuiltins\u001b[49m\u001b[38;5;241;43m.\u001b[39;49m\u001b[43mopen\u001b[49m\u001b[43m(\u001b[49m\u001b[43mfilename\u001b[49m\u001b[43m,\u001b[49m\u001b[43m \u001b[49m\u001b[38;5;124;43m\"\u001b[39;49m\u001b[38;5;124;43mrb\u001b[39;49m\u001b[38;5;124;43m\"\u001b[39;49m\u001b[43m)\u001b[49m\n\u001b[1;32m   3248\u001b[0m     exclusive_fp \u001b[38;5;241m=\u001b[39m \u001b[38;5;28;01mTrue\u001b[39;00m\n\u001b[1;32m   3250\u001b[0m \u001b[38;5;28;01mtry\u001b[39;00m:\n",
      "\u001b[0;31mFileNotFoundError\u001b[0m: [Errno 2] No such file or directory: '00000016_022.jpg'"
     ]
    }
   ],
   "source": [
    "from PIL import Image\n",
    "import numpy\n",
    "import math\n",
    "import matplotlib.pyplot as plot\n",
    "import os\n",
    "from sklearn.cluster import KMeans\n",
    "\n",
    "for fichier in os.listdir(chemin_image):\n",
    "    if fichier.endswith('.jpg') :\n",
    "        filepath = os.path.join(chemin_image, fichier)\n",
    "        imgfile = Image.open(fichier)\n",
    "        histogram = imgfile.histogram()\n",
    "        red = histogram[0:255]\n",
    "        green = histogram[256:511]\n",
    "        blue = histogram[512:767]\n",
    "        x = range(255)\n",
    "        y = []\n",
    "        for i in x:\n",
    "            y.append((red[i], green[i], blue[i]))\n",
    "        figure, axes = plot.subplots()\n",
    "        axes.set_prop_cycle(\"color\", [\"red\", \"green\", \"blue\"])\n",
    "        plot.plot(x, y)\n",
    "        plot.show()\n"
   ]
  },
  {
   "cell_type": "code",
   "execution_count": null,
   "metadata": {},
   "outputs": [],
   "source": []
  }
 ],
 "metadata": {
  "kernelspec": {
   "display_name": "Python 3 (ipykernel)",
   "language": "python",
   "name": "python3"
  },
  "language_info": {
   "codemirror_mode": {
    "name": "ipython",
    "version": 3
   },
   "file_extension": ".py",
   "mimetype": "text/x-python",
   "name": "python",
   "nbconvert_exporter": "python",
   "pygments_lexer": "ipython3",
   "version": "3.10.12"
  }
 },
 "nbformat": 4,
 "nbformat_minor": 4
}

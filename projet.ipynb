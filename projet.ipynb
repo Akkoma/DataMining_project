{
 "cells": [
  {
   "cell_type": "markdown",
   "metadata": {},
   "source": [
    "# **Collecte de données**"
   ]
  },
  {
   "cell_type": "markdown",
   "metadata": {},
   "source": [
    "Nous allons pour commencer télécharger des images dans une base de données, nous avons utilisé Kaggle pour cela. Et nous traiterons des images de chats/chatons."
   ]
  },
  {
   "cell_type": "code",
   "execution_count": 1,
   "metadata": {},
   "outputs": [
    {
     "name": "stdout",
     "output_type": "stream",
     "text": [
      "Tous les téléchargements sont terminés.\n"
     ]
    }
   ],
   "source": [
    "import ssl\n",
    "import os\n",
    "import requests\n",
    "import time\n",
    "\n",
    "# Désactiver la vérification du certificat SSL\n",
    "ssl._create_default_https_context = ssl._create_unverified_context\n",
    "\n",
    "import sys\n",
    "from SPARQLWrapper import SPARQLWrapper, JSON\n",
    "from requests.exceptions import HTTPError\n",
    "\n",
    "endpoint_url = \"https://query.wikidata.org/sparql\"\n",
    "\n",
    "# Get cats\n",
    "query = \"\"\"\n",
    "        SELECT DISTINCT ?cat ?image WHERE {\n",
    "            ?cat wdt:P31 wd:Q146.\n",
    "            ?cat wdt:P18 ?image.\n",
    "        }\n",
    "        LIMIT 100\"\"\"\n",
    "\n",
    "\n",
    "def get_results(endpoint_url, query):\n",
    "    user_agent = \"Mozilla/5.0 (Windows NT 10.0; Win64; x64) AppleWebKit/537.36 (KHTML, like Gecko) Chrome/58.0.3029.110 Safari/537.3\"\n",
    "    \n",
    "    sparql = SPARQLWrapper(endpoint_url, agent=user_agent)\n",
    "    sparql.setQuery(query)\n",
    "    sparql.setReturnFormat(JSON)\n",
    "    return sparql.query().convert()\n",
    "\n",
    "\n",
    "def download_image(image_url, filename):\n",
    "    # Fonction pour télécharger une image à partir de son URL\n",
    "    try:\n",
    "        response = requests.get(image_url, headers={\"User-Agent\": \"Mozilla/5.0\"})\n",
    "        response.raise_for_status()  # Vérifier si la requête a réussi\n",
    "        with open(filename, 'wb') as file:\n",
    "            file.write(response.content)\n",
    "    except HTTPError as http_err:\n",
    "        print(f\"Erreur HTTP lors du téléchargement de {image_url}: {http_err}\")\n",
    "        print(\"Contenu de la réponse (si disponible):\", response.content)\n",
    "    except requests.exceptions.RequestException as e:\n",
    "        print(f\"Erreur lors du téléchargement de {image_url}: {e}\")\n",
    "    except Exception as e:\n",
    "        print(f\"Une erreur s'est produite lors du téléchargement de {image_url}: {e}\")\n",
    "\n",
    "\n",
    "array = []\n",
    "results = get_results(endpoint_url, query)\n",
    "\n",
    "# Créer un dossier pour enregistrer les images s'il n'existe pas\n",
    "if not os.path.exists('cat_images'):\n",
    "    os.makedirs('cat_images')\n",
    "\n",
    "for result in results[\"results\"][\"bindings\"]:\n",
    "    cat_name = result[\"cat\"][\"value\"]\n",
    "    image_url = result[\"image\"][\"value\"]\n",
    "    \n",
    "    # Ajouter le nom du fichier à partir de l'URL\n",
    "    image_filename = 'cat_images/{}.jpg'.format(cat_name.split('/')[-1])\n",
    "    \n",
    "    # Ajouter le nom du fichier à la liste\n",
    "    array.append((cat_name, image_filename))\n",
    "    \n",
    "    # Télécharger l'image dans le dossier 'cat_images'\n",
    "    download_image(image_url, image_filename)\n",
    "    \n",
    "    # Ajouter un délai entre les téléchargements pour ne pas surcharger le serveur distant\n",
    "    time.sleep(1)\n",
    "\n",
    "print(\"Tous les téléchargements sont terminés.\")\n"
   ]
  },
  {
   "cell_type": "markdown",
   "metadata": {},
   "source": [
    "Code pour reccuperer le format d'une image"
   ]
  },
  {
   "cell_type": "code",
   "execution_count": 2,
   "metadata": {},
   "outputs": [],
   "source": [
    "def getformat(image):\n",
    "    # Permets de récupérer le format d'une image\n",
    "    imgfile = Image.open(image)\n",
    "    long = imgfile.size[0]\n",
    "    larg = imgfile.size[1]\n",
    "    if long > larg:\n",
    "        format = \"paysage\"\n",
    "    elif larg > long:\n",
    "        format = \"portrait\"\n",
    "    else:  \n",
    "        format = \"carre\"\n",
    "    return format"
   ]
  },
  {
   "cell_type": "markdown",
   "metadata": {},
   "source": [
    "Code pour reccuperer les couleurs dominante des images"
   ]
  },
  {
   "cell_type": "code",
   "execution_count": 12,
   "metadata": {},
   "outputs": [],
   "source": [
    "import numpy\n",
    "from sklearn.cluster import MiniBatchKMeans\n",
    "\n",
    "def getcolors(image):\n",
    "    n_clusters = 2\n",
    "    imgfile = Image.open(image)\n",
    "    numarray = numpy.array(imgfile.getdata(), numpy.uint8)\n",
    "    clusters = MiniBatchKMeans(n_clusters,n_init = 'auto')\n",
    "    clusters.fit(numarray)\n",
    "    npbins = numpy.arange(0, n_clusters + 1)\n",
    "    histogram = numpy.histogram(clusters.labels_, bins=npbins)\n",
    "    labels = numpy.unique(clusters.labels_)\n",
    "\n",
    "    hist_decres = sorted(histogram[0], reverse=True)\n",
    "\n",
    "    colors = []\n",
    "\n",
    "    for i in range(n_clusters):\n",
    "        colors.append([int(clusters.cluster_centers_[i][0]),int(clusters.cluster_centers_[i][1]),int(clusters.cluster_centers_[i][2])])\n",
    "\n",
    "    return colors"
   ]
  },
  {
   "cell_type": "markdown",
   "metadata": {},
   "source": [
    "Nous ne telechargeons pas les exif pour les images qui en ont pour une question d'homogeneité des fichier .json , mais voici comment nous l'aurions fait si nous avions choisis cette méthode."
   ]
  },
  {
   "cell_type": "code",
   "execution_count": null,
   "metadata": {},
   "outputs": [
    {
     "data": {
      "text/plain": [
       "'import os\\nimport json\\nfrom PIL import Image, UnidentifiedImageError\\nfrom PIL.ExifTags import TAGS\\n\\nchemin_image = \\'./cat_images\\'\\n\\ndef convert_ifd_rational(value):\\n    \"\"\"\\n    Convertir les valeurs IFDRational en tuple (numérateur, dénominateur).\\n    \"\"\"\\n    if not isinstance(value, tuple):\\n        return value\\n    \\n    rational_values = []\\n    for v in value:\\n        try:\\n            rational_values.append(int(v))\\n        except (ValueError, TypeError):\\n            # Si la valeur n\\'est pas un nombre, garder la valeur d\\'origine\\n            rational_values.append(v)\\n    \\n    return tuple(rational_values)\\n\\nfor fichier in os.listdir(chemin_image):\\n    if fichier.endswith(\\'.jpg\\'):\\n        filepath = os.path.join(chemin_image, fichier)\\n        try:\\n            imgfile = Image.open(filepath)\\n            # Récupérer les métadonnées EXIF\\n            exif_data = imgfile._getexif()\\n            if exif_data is None:\\n                print(f\"Aucune métadonnée EXIF disponible pour l\\'image {fichier}.\")\\n            else:\\n                exif_dict = {}\\n                for tag, value in exif_data.items():\\n                    if tag in TAGS:\\n                        # Convertir les valeurs IFDRational en tuple (numérateur, dénominateur)\\n                        value = convert_ifd_rational(value)\\n                        exif_dict[TAGS[tag]] = value\\n                    else:\\n                        # Pour les tags non standard, les enregistrer avec un préfixe \"Tag_\"\\n                        exif_dict[f\"Tag_{tag}\"] = value\\n                \\n                # Créer un fichier JSON avec les informations EXIF\\n                json_filename = os.path.splitext(filepath)[0] + \\'.json\\'\\n                with open(json_filename, \\'w\\') as json_file:\\n                    # Utiliser un encodeur personnalisé pour gérer les types non sérialisables\\n                    json.dump(exif_dict, json_file, indent=4, default=str)\\n                \\n                \\n            imgfile.close()  # Fermer le fichier après avoir terminé\\n        except (OSError, AttributeError, UnidentifiedImageError) as e:\\n            print(f\"Impossible de traiter l\\'image {fichier}: {e}\")'"
      ]
     },
     "execution_count": 31,
     "metadata": {},
     "output_type": "execute_result"
    }
   ],
   "source": [
    "'''import os\n",
    "import json\n",
    "from PIL import Image, UnidentifiedImageError\n",
    "from PIL.ExifTags import TAGS\n",
    "\n",
    "chemin_image = './cat_images'\n",
    "\n",
    "def convert_ifd_rational(value):\n",
    "    \"\"\"\n",
    "    Convertir les valeurs IFDRational en tuple (numérateur, dénominateur).\n",
    "    \"\"\"\n",
    "    if not isinstance(value, tuple):\n",
    "        return value\n",
    "    \n",
    "    rational_values = []\n",
    "    for v in value:\n",
    "        try:\n",
    "            rational_values.append(int(v))\n",
    "        except (ValueError, TypeError):\n",
    "            # Si la valeur n'est pas un nombre, garder la valeur d'origine\n",
    "            rational_values.append(v)\n",
    "    \n",
    "    return tuple(rational_values)\n",
    "\n",
    "for fichier in os.listdir(chemin_image):\n",
    "    if fichier.endswith('.jpg'):\n",
    "        filepath = os.path.join(chemin_image, fichier)\n",
    "        try:\n",
    "            imgfile = Image.open(filepath)\n",
    "            # Récupérer les métadonnées EXIF\n",
    "            exif_data = imgfile._getexif()\n",
    "            if exif_data is None:\n",
    "                print(f\"Aucune métadonnée EXIF disponible pour l'image {fichier}.\")\n",
    "            else:\n",
    "                exif_dict = {}\n",
    "                for tag, value in exif_data.items():\n",
    "                    if tag in TAGS:\n",
    "                        # Convertir les valeurs IFDRational en tuple (numérateur, dénominateur)\n",
    "                        value = convert_ifd_rational(value)\n",
    "                        exif_dict[TAGS[tag]] = value\n",
    "                    else:\n",
    "                        # Pour les tags non standard, les enregistrer avec un préfixe \"Tag_\"\n",
    "                        exif_dict[f\"Tag_{tag}\"] = value\n",
    "                \n",
    "                # Créer un fichier JSON avec les informations EXIF\n",
    "                json_filename = os.path.splitext(filepath)[0] + '.json'\n",
    "                with open(json_filename, 'w') as json_file:\n",
    "                    # Utiliser un encodeur personnalisé pour gérer les types non sérialisables\n",
    "                    json.dump(exif_dict, json_file, indent=4, default=str)\n",
    "                \n",
    "                \n",
    "            imgfile.close()  # Fermer le fichier après avoir terminé\n",
    "        except (OSError, AttributeError, UnidentifiedImageError) as e:\n",
    "            print(f\"Impossible de traiter l'image {fichier}: {e}\")'''\n"
   ]
  },
  {
   "cell_type": "markdown",
   "metadata": {},
   "source": [
    "Nous n'avons pas d'exif pour toutes les images, donc nous passons par cette méthode:"
   ]
  },
  {
   "cell_type": "code",
   "execution_count": 13,
   "metadata": {},
   "outputs": [],
   "source": [
    "import os\n",
    "from PIL import Image\n",
    "from PIL.ExifTags import TAGS\n",
    "import json \n",
    "\n",
    "chemin_images = './cat_images'\n",
    "\n",
    "for fichier in os.listdir(chemin_images):\n",
    "    if fichier.endswith('.jpg'):\n",
    "        filepath = os.path.join(chemin_images, fichier)\n",
    "        json_filename = os.path.splitext(filepath)[0] + '.json'    \n",
    "        try:\n",
    "            #couleurs= getcolors(filepath)\n",
    "            metadata = {\n",
    "                        'file_name': fichier,\n",
    "                        'size': os.path.getsize(filepath),\n",
    "                        'format': getformat(filepath),\n",
    "                        'mode': Image.open(filepath).mode,\n",
    "                        'color': getcolors(filepath)\n",
    "                    }\n",
    "\n",
    "                    # Écrire les métadonnées dans le fichier JSON\n",
    "            with open(json_filename, 'w') as f:\n",
    "                    json.dump(metadata, f, indent=4)\n",
    "\n",
    "        except (OSError, AttributeError) as e:\n",
    "            print(f\"Impossible de traiter l'image {fichier}: {e}\")\n",
    "\n"
   ]
  },
  {
   "cell_type": "markdown",
   "metadata": {},
   "source": [
    "Nous enregistrons des tags pour chaque image"
   ]
  },
  {
   "cell_type": "code",
   "execution_count": 5,
   "metadata": {},
   "outputs": [
    {
     "name": "stdout",
     "output_type": "stream",
     "text": [
      "Tags existants pour cette image :  {'file_name': 'Q54087698.jpg', 'size': 32713, 'format': 'paysage', 'mode': 'RGB', 'color': [[219, 209, 194], [76, 69, 58]]}\n"
     ]
    },
    {
     "data": {
      "application/vnd.jupyter.widget-view+json": {
       "model_id": "f023867892d8417f8104f0fafb877712",
       "version_major": 2,
       "version_minor": 0
      },
      "text/plain": [
       "Image(value=b'\\xff\\xd8\\xff\\xe0\\x00\\x10JFIF\\x00\\x01\\x01\\x01\\x00H\\x00H\\x00\\x00\\xff\\xdb\\x00C\\x00\\x06\\x04\\x05\\x06\\…"
      ]
     },
     "metadata": {},
     "output_type": "display_data"
    },
    {
     "data": {
      "application/vnd.jupyter.widget-view+json": {
       "model_id": "3b98ccd60ba24b4fbb8559b86da214b2",
       "version_major": 2,
       "version_minor": 0
      },
      "text/plain": [
       "Text(value='', description='Tag:', placeholder='Ajouter un tag')"
      ]
     },
     "metadata": {},
     "output_type": "display_data"
    },
    {
     "data": {
      "application/vnd.jupyter.widget-view+json": {
       "model_id": "21c0508b75574990bf0b52bf8f3b76f2",
       "version_major": 2,
       "version_minor": 0
      },
      "text/plain": [
       "Output()"
      ]
     },
     "metadata": {},
     "output_type": "display_data"
    },
    {
     "data": {
      "application/vnd.jupyter.widget-view+json": {
       "model_id": "8b247e26e2c945b79055d2968137f740",
       "version_major": 2,
       "version_minor": 0
      },
      "text/plain": [
       "Button(description='Image suivante', style=ButtonStyle())"
      ]
     },
     "metadata": {},
     "output_type": "display_data"
    },
    {
     "name": "stdout",
     "output_type": "stream",
     "text": [
      "Tags existants pour cette image :  {'file_name': 'Q28665865.jpg', 'size': 74851, 'format': 'portrait', 'mode': 'RGB', 'color': [[159, 164, 164], [69, 75, 74]]}\n"
     ]
    },
    {
     "data": {
      "application/vnd.jupyter.widget-view+json": {
       "model_id": "f023867892d8417f8104f0fafb877712",
       "version_major": 2,
       "version_minor": 0
      },
      "text/plain": [
       "Image(value=b'\\xff\\xd8\\xff\\xe0\\x00\\x10JFIF\\x00\\x01\\x01\\x01\\x00\\xc8\\x00\\xc8\\x00\\x00\\xff\\xe190Exif\\x00\\x00MM\\x00…"
      ]
     },
     "metadata": {},
     "output_type": "display_data"
    },
    {
     "data": {
      "application/vnd.jupyter.widget-view+json": {
       "model_id": "3b98ccd60ba24b4fbb8559b86da214b2",
       "version_major": 2,
       "version_minor": 0
      },
      "text/plain": [
       "Text(value='', description='Tag:', placeholder='Ajouter un tag')"
      ]
     },
     "metadata": {},
     "output_type": "display_data"
    },
    {
     "data": {
      "application/vnd.jupyter.widget-view+json": {
       "model_id": "21c0508b75574990bf0b52bf8f3b76f2",
       "version_major": 2,
       "version_minor": 0
      },
      "text/plain": [
       "Output(outputs=({'name': 'stdout', 'text': 'Image 1/54: Q54087698.jpg\\n', 'output_type': 'stream'},))"
      ]
     },
     "metadata": {},
     "output_type": "display_data"
    },
    {
     "name": "stdout",
     "output_type": "stream",
     "text": [
      "Tags existants pour cette image :  {'file_name': 'Q25171691.jpg', 'size': 6633905, 'format': 'paysage', 'mode': 'RGB', 'color': [[158, 136, 109], [28, 23, 17]]}\n"
     ]
    },
    {
     "data": {
      "application/vnd.jupyter.widget-view+json": {
       "model_id": "f023867892d8417f8104f0fafb877712",
       "version_major": 2,
       "version_minor": 0
      },
      "text/plain": [
       "Image(value=b'\\xff\\xd8\\xff\\xe1[\\x90Exif\\x00\\x00II*\\x00\\x08\\x00\\x00\\x00\\x0c\\x00\\x0f\\x01\\x02\\x00\\x06\\x00\\x00\\x00…"
      ]
     },
     "metadata": {},
     "output_type": "display_data"
    },
    {
     "data": {
      "application/vnd.jupyter.widget-view+json": {
       "model_id": "3b98ccd60ba24b4fbb8559b86da214b2",
       "version_major": 2,
       "version_minor": 0
      },
      "text/plain": [
       "Text(value='', description='Tag:', placeholder='Ajouter un tag')"
      ]
     },
     "metadata": {},
     "output_type": "display_data"
    },
    {
     "data": {
      "application/vnd.jupyter.widget-view+json": {
       "model_id": "21c0508b75574990bf0b52bf8f3b76f2",
       "version_major": 2,
       "version_minor": 0
      },
      "text/plain": [
       "Output(outputs=({'name': 'stdout', 'text': 'Image 2/54: Q28665865.jpg\\n', 'output_type': 'stream'},))"
      ]
     },
     "metadata": {},
     "output_type": "display_data"
    }
   ],
   "source": [
    "import os\n",
    "import json\n",
    "from PIL import Image\n",
    "import ipywidgets as widgets\n",
    "from IPython.display import display, clear_output\n",
    "\n",
    "# Chemin du dossier contenant les images\n",
    "chemin_images = './cat_images'\n",
    "\n",
    "# Liste des noms de fichiers des images\n",
    "images_list = [file for file in os.listdir(chemin_images) if file.endswith('.jpg')]\n",
    "num_images = len(images_list)\n",
    "\n",
    "# Index de l'image actuellement affichée\n",
    "current_index = 0\n",
    "\n",
    "# Widget pour l'image\n",
    "image_widget = widgets.Image(\n",
    "    format='jpg',\n",
    "    width=400,\n",
    "    height=400\n",
    ")\n",
    "\n",
    "# Widget pour le champ de saisie du tag\n",
    "tag_input = widgets.Text(placeholder='Ajouter un tag', description='Tag:')\n",
    "tag_output = widgets.Output()\n",
    "\n",
    "# Fonction pour afficher l'image et le champ de saisie de tag\n",
    "def display_image(index):\n",
    "    global current_index\n",
    "    current_index = index % num_images\n",
    "    image_path = os.path.join(chemin_images, images_list[current_index])\n",
    "    with open(image_path, \"rb\") as f:\n",
    "        image_widget.value = f.read()\n",
    "    tag_input.value = ''  # Réinitialiser le champ de saisie du tag\n",
    "    with tag_output:\n",
    "        clear_output()\n",
    "        print(f\"Image {current_index + 1}/{num_images}: {images_list[current_index]}\")\n",
    "    \n",
    "    # Charger les tags existants ou créer un dictionnaire vide\n",
    "    json_filename = os.path.splitext(images_list[current_index])[0] + '.json'\n",
    "    json_path = os.path.join(chemin_images, json_filename)\n",
    "    tags_dict = {}\n",
    "    if os.path.exists(json_path):\n",
    "        with open(json_path, 'r') as json_file:\n",
    "            tags_dict = json.load(json_file)\n",
    "    \n",
    "    # Afficher les tags existants pour cette image\n",
    "    print(\"Tags existants pour cette image : \", tags_dict)\n",
    "    \n",
    "    display(image_widget, tag_input, tag_output)\n",
    "\n",
    "# Fonction pour gérer le changement d'image et enregistrer le tag\n",
    "def on_button_clicked(b):\n",
    "    global current_index\n",
    "    tag = tag_input.value.strip()\n",
    "    \n",
    "    # Charger les tags existants ou créer un dictionnaire vide\n",
    "    json_filename = os.path.splitext(images_list[current_index])[0] + '.json'\n",
    "    json_path = os.path.join(chemin_images, json_filename)\n",
    "    tags_dict = {}\n",
    "    if os.path.exists(json_path):\n",
    "        with open(json_path, 'r') as json_file:\n",
    "            tags_dict = json.load(json_file)\n",
    "    \n",
    "    # Ajouter le nouveau tag\n",
    "    tags_dict[current_index] = tag\n",
    "    \n",
    "    # Écrire les tags dans le fichier JSON\n",
    "    with open(json_path, 'w') as json_file:\n",
    "        json.dump(tags_dict, json_file, indent=4)\n",
    "    \n",
    "    # Afficher un message de confirmation\n",
    "    with tag_output:\n",
    "        clear_output()\n",
    "        print(f\"Tag '{tag}' ajouté pour l'image {current_index + 1}\")\n",
    "    \n",
    "    current_index += 1\n",
    "    display_image(current_index)\n",
    "\n",
    "# Bouton pour passer à l'image suivante et enregistrer le tag\n",
    "next_button = widgets.Button(description='Image suivante')\n",
    "next_button.on_click(on_button_clicked)\n",
    "\n",
    "# Afficher la première image au démarrage\n",
    "display_image(current_index)\n",
    "\n",
    "# Afficher le bouton pour passer à l'image suivante\n",
    "display(next_button)\n"
   ]
  },
  {
   "cell_type": "markdown",
   "metadata": {},
   "source": [
    "# **Analyses de données**"
   ]
  },
  {
   "cell_type": "markdown",
   "metadata": {},
   "source": [
    "Gerer les utilisateurs "
   ]
  },
  {
   "cell_type": "code",
   "execution_count": 6,
   "metadata": {},
   "outputs": [
    {
     "data": {
      "application/vnd.jupyter.widget-view+json": {
       "model_id": "123fd8ae56404d199feb9e692bbe95e6",
       "version_major": 2,
       "version_minor": 0
      },
      "text/plain": [
       "Text(value='', description='Nom:', placeholder='Entrez votre nom')"
      ]
     },
     "metadata": {},
     "output_type": "display_data"
    },
    {
     "data": {
      "application/vnd.jupyter.widget-view+json": {
       "model_id": "25f5cc32dfa44ec69cccaae8d01c0854",
       "version_major": 2,
       "version_minor": 0
      },
      "text/plain": [
       "Button(description='Soumettre', style=ButtonStyle())"
      ]
     },
     "metadata": {},
     "output_type": "display_data"
    },
    {
     "data": {
      "application/vnd.jupyter.widget-view+json": {
       "model_id": "41ec978b0cc846ebaf494bcb0abd42f1",
       "version_major": 2,
       "version_minor": 0
      },
      "text/plain": [
       "Output()"
      ]
     },
     "metadata": {},
     "output_type": "display_data"
    }
   ],
   "source": [
    "import os\n",
    "import ipywidgets as widgets\n",
    "from IPython.display import display, clear_output\n",
    "\n",
    "# Widget pour saisir le nom\n",
    "nom_input = widgets.Text(placeholder='Entrez votre nom', description='Nom:')\n",
    "submit_button = widgets.Button(description='Soumettre')\n",
    "\n",
    "# Widget pour afficher le message de bienvenue\n",
    "message_output = widgets.Output()\n",
    "\n",
    "def on_submit_button_clicked(b):\n",
    "    nom = nom_input.value.strip()\n",
    "    if nom:\n",
    "        # Créer un dossier avec le nom de l'utilisateur s'il n'existe pas\n",
    "        user_folder = os.path.join('./', nom)\n",
    "        if not os.path.exists(user_folder):\n",
    "            os.makedirs(user_folder)\n",
    "            with message_output:\n",
    "                clear_output()\n",
    "                print(f\"Dossier '{nom}' créé avec succès.\")\n",
    "\n",
    "        with message_output:\n",
    "            clear_output()\n",
    "            print(f\"Bonjour {nom} ! Bienvenue. Votre dossier '{nom}' a été créé.\")\n",
    "\n",
    "    else:\n",
    "        with message_output:\n",
    "            clear_output()\n",
    "            print(\"Veuillez saisir votre nom.\")\n",
    "\n",
    "# Lier la fonction au clic sur le bouton Soumettre\n",
    "submit_button.on_click(on_submit_button_clicked)\n",
    "\n",
    "# Afficher le formulaire\n",
    "display(nom_input, submit_button, message_output)\n"
   ]
  },
  {
   "cell_type": "markdown",
   "metadata": {},
   "source": [
    "Après avoir reccuperé les données nous demondons aux utilisateurs de choisir des images"
   ]
  },
  {
   "cell_type": "code",
   "execution_count": 7,
   "metadata": {},
   "outputs": [
    {
     "data": {
      "application/vnd.jupyter.widget-view+json": {
       "model_id": "412894ae6bcc45b18d354ac5851b6dbf",
       "version_major": 2,
       "version_minor": 0
      },
      "text/plain": [
       "Text(value='', description='Nom:', placeholder=\"Nom d'utilisateur\")"
      ]
     },
     "metadata": {},
     "output_type": "display_data"
    },
    {
     "data": {
      "application/vnd.jupyter.widget-view+json": {
       "model_id": "d60b3a33130744f58e5277e9e97cfb36",
       "version_major": 2,
       "version_minor": 0
      },
      "text/plain": [
       "GridspecLayout(children=(Image(value=b'\\xff\\xd8\\xff\\xe0\\x00\\x10JFIF\\x00\\x01\\x01\\x01\\x00H\\x00H\\x00\\x00\\xff\\xdb\\…"
      ]
     },
     "metadata": {},
     "output_type": "display_data"
    },
    {
     "data": {
      "application/vnd.jupyter.widget-view+json": {
       "model_id": "43ed0894d8bc453f8133dd6ad24fe95a",
       "version_major": 2,
       "version_minor": 0
      },
      "text/plain": [
       "Button(description='Select', style=ButtonStyle())"
      ]
     },
     "metadata": {},
     "output_type": "display_data"
    },
    {
     "data": {
      "application/vnd.jupyter.widget-view+json": {
       "model_id": "0f44db2bf8c148e2a66d071a6f51ea93",
       "version_major": 2,
       "version_minor": 0
      },
      "text/plain": [
       "Output()"
      ]
     },
     "metadata": {},
     "output_type": "display_data"
    },
    {
     "name": "stdout",
     "output_type": "stream",
     "text": [
      "['./cat_images/Q54087698.jpg', './cat_images/Q28665865.jpg']\n"
     ]
    }
   ],
   "source": [
    "import ipywidgets as widgets\n",
    "import os, sys\n",
    "from PIL import Image\n",
    "import json\n",
    "\n",
    "from os import listdir\n",
    "\n",
    "chemin_image='./cat_images'\n",
    "images = []\n",
    "limite= 20\n",
    "\n",
    "for count, file in enumerate(os.listdir(chemin_image)):\n",
    "    if count >= limite:\n",
    "        break  # Sort de la boucle une fois la limite atteinte\n",
    "    if file.endswith('.jpg') :\n",
    "        images.append(\"./cat_images/\" + file)\n",
    "\n",
    "from ipywidgets import GridspecLayout, Image, interact\n",
    "paths = []\n",
    "\n",
    "checkboxes = [widgets.Checkbox(value=False, description='Favorite') for _ in range(len(images))]\n",
    "\n",
    "# Create the GridspecLayout widget\n",
    "layout = GridspecLayout(n_columns=2, n_rows=len(images), width='400px')\n",
    "for i, (img, checkbox) in enumerate(zip(images, checkboxes)):\n",
    "  file = open(img, \"rb\")\n",
    "  image = file.read()\n",
    "  image_widget = widgets.Image(\n",
    "    value=image,\n",
    "    format='png',\n",
    "    width=100,\n",
    "    height=100,\n",
    "  )\n",
    "  layout[i,0] = image_widget\n",
    "  layout[i, 1] = checkbox\n",
    "\n",
    "nom_utilisateur = widgets.Text(placeholder='Nom d\\'utilisateur', description='Nom:')\n",
    "\n",
    "# Button to get selected images\n",
    "button = widgets.Button(description=\"Select\")\n",
    "\n",
    "# Output widget to display selected images\n",
    "output = widgets.Output()\n",
    "\n",
    "# Function to get selected images\n",
    "def get_selected_images(btn):\n",
    "    global paths\n",
    "    paths = []\n",
    "    selected_paths = [images[i] for i, checkbox in enumerate(checkboxes) if checkbox.value]\n",
    "    with output:\n",
    "        output.clear_output()\n",
    "        print(\"Selected Images:\")\n",
    "        for path in selected_paths:\n",
    "            print(path)\n",
    "            paths.append(path)\n",
    "    print(paths)\n",
    "\n",
    "    # Écrire la liste dans le fichier favoris de l'utilisateur \n",
    "    utilisateur = nom_utilisateur.value.strip()\n",
    "    if utilisateur:\n",
    "        dossier_utilisateur = os.path.join('./', utilisateur)\n",
    "        # Vérifier si le dossier de l'utilisateur existe\n",
    "        if os.path.exists(dossier_utilisateur):\n",
    "            # Créer le dossier \"favoris\" s'il n'existe pas\n",
    "            dossier_favoris = os.path.join(dossier_utilisateur, 'favoris')\n",
    "            if not os.path.exists(dossier_favoris):\n",
    "                os.makedirs(dossier_favoris)\n",
    "\n",
    "            json_favoris = os.path.join(dossier_favoris, 'favoris.json')\n",
    "            with open(json_favoris, 'w') as f:\n",
    "              json.dump(paths, f)\n",
    "        \n",
    "\n",
    "# Link button click event to function\n",
    "button.on_click(get_selected_images)\n",
    "\n",
    "# Display the layout and button\n",
    "display(nom_utilisateur, layout, button, output)"
   ]
  },
  {
   "cell_type": "markdown",
   "metadata": {},
   "source": [
    "Nous faisons le choix d'utiliser la classification algorithmique "
   ]
  },
  {
   "cell_type": "code",
   "execution_count": 8,
   "metadata": {},
   "outputs": [
    {
     "data": {
      "application/vnd.jupyter.widget-view+json": {
       "model_id": "bb55f36acc6846a0b09c40610cfde0bf",
       "version_major": 2,
       "version_minor": 0
      },
      "text/plain": [
       "Text(value='', description='Nom:', placeholder=\"Nom d'utilisateur\")"
      ]
     },
     "metadata": {},
     "output_type": "display_data"
    },
    {
     "data": {
      "application/vnd.jupyter.widget-view+json": {
       "model_id": "0ddb83b0db314c11b4eea3647d959745",
       "version_major": 2,
       "version_minor": 0
      },
      "text/plain": [
       "Button(description='Recommander', style=ButtonStyle())"
      ]
     },
     "metadata": {},
     "output_type": "display_data"
    },
    {
     "name": "stdout",
     "output_type": "stream",
     "text": [
      "Aucune recommandation trouvée.\n"
     ]
    }
   ],
   "source": [
    "import os\n",
    "import json\n",
    "from PIL import Image\n",
    "from ipywidgets import Image as ImageWidget, HBox, VBox\n",
    "from sklearn.model_selection import train_test_split\n",
    "from sklearn.preprocessing import LabelEncoder\n",
    "from sklearn.ensemble import RandomForestClassifier\n",
    "from sklearn.metrics import accuracy_score\n",
    "\n",
    "# Charger les métadonnées des images du dossier cat_images\n",
    "def load_image_metadata():\n",
    "    image_metadata = {}\n",
    "    chemin_images = './cat_images'\n",
    "    for file in os.listdir(chemin_images):\n",
    "        if file.endswith('.json'):\n",
    "            with open(os.path.join(chemin_images, file), 'r') as f:\n",
    "                metadata = json.load(f)\n",
    "                image_metadata[file] = metadata\n",
    "    return image_metadata\n",
    "\n",
    "# Charger les images favorites de l'utilisateur\n",
    "def load_favorite_images(utilisateur):\n",
    "    favoris_path = os.path.join('./', utilisateur, 'favoris', 'favoris.json')\n",
    "    with open(favoris_path, 'r') as f:\n",
    "        liste_fichiers = json.load(f)\n",
    "    return liste_fichiers\n",
    "\n",
    "# Vérifier si les caractéristiques sont similaires\n",
    "def check_similarity(metadata1, metadata2):\n",
    "    similarity = True\n",
    "    if metadata1['format'] != metadata2['format']:\n",
    "        similarity = False\n",
    "    if metadata1['mode'] != metadata2['mode']:\n",
    "        similarity = False\n",
    "    return similarity\n",
    "\n",
    "# Fonction principale pour recommander les images\n",
    "def recommendation(btn):\n",
    "    utilisateur = nom_utilisateur.value.strip()\n",
    "    if utilisateur:\n",
    "        image_metadata = load_image_metadata()\n",
    "        liste_fichiers = load_favorite_images(utilisateur)\n",
    "        \n",
    "        # Récupérer les métadonnées des images favorites\n",
    "        favorites_metadata = [image_metadata[file] for file in liste_fichiers if file in image_metadata]\n",
    "        \n",
    "        # Filtrer les images similaires aux favoris\n",
    "        similar_images = []\n",
    "        for filename, metadata in image_metadata.items():\n",
    "            if filename not in liste_fichiers:\n",
    "                for fav_metadata in favorites_metadata:\n",
    "                    if check_similarity(metadata, fav_metadata):\n",
    "                        similar_images.append(filename)\n",
    "                        break\n",
    "        \n",
    "        # Afficher les images similaires\n",
    "        display_similar_images(similar_images, image_metadata, utilisateur)\n",
    "    else:\n",
    "        print(\"Veuillez saisir le nom d'utilisateur.\")\n",
    "\n",
    "# Afficher les images similaires\n",
    "def display_similar_images(images, image_metadata, utilisateur):\n",
    "    if not images:\n",
    "        print(\"Aucune recommandation trouvée.\")\n",
    "        return\n",
    "    \n",
    "    image_widgets = []\n",
    "    for image in images:\n",
    "        with open(os.path.join('./cat_images', image), 'rb') as f:\n",
    "            img = Image.open(f)\n",
    "            img_widget = ImageWidget(value=f.read(), format='jpg', width=200, height=200)\n",
    "            image_widgets.append(img_widget)\n",
    "    \n",
    "    images_per_row = 3\n",
    "    rows = [HBox(image_widgets[i:i+images_per_row]) for i in range(0, len(image_widgets), images_per_row)]\n",
    "    \n",
    "    # Classifier pour prédire si l'image devrait être un favori\n",
    "    X = [[metadata['size'], metadata['format']] for metadata in [image_metadata[image] for image in images]]\n",
    "    y = [1] * len(images)  # Toutes les images recommandées sont considérées comme favorites\n",
    "    X_train, X_test, y_train, y_test = train_test_split(X, y, test_size=0.2, random_state=42)\n",
    "    \n",
    "    label_encoders = [LabelEncoder() for _ in range(2)]\n",
    "    X_train_encoded = [[encoder.fit_transform([feat]) for encoder, feat in zip(label_encoders, row)] for row in X_train]\n",
    "    X_train_encoded = [[val for sublist in row for val in sublist] for row in X_train_encoded]\n",
    "    \n",
    "    classifier = RandomForestClassifier(random_state=42)\n",
    "    classifier.fit(X_train_encoded, y_train)\n",
    "    \n",
    "    X_test_encoded = [[encoder.transform([feat]) for encoder, feat in zip(label_encoders, row)] for row in X_test]\n",
    "    X_test_encoded = [[val for sublist in row for val in sublist] for row in X_test_encoded]\n",
    "    \n",
    "    predictions = classifier.predict(X_test_encoded)\n",
    "    \n",
    "    accuracy = accuracy_score(y_test, predictions)\n",
    "    print(f\"Accuracy of RandomForestClassifier: {accuracy}\")\n",
    "    \n",
    "    for row in rows:\n",
    "        display(row)\n",
    "\n",
    "# Widgets et bouton\n",
    "nom_utilisateur = widgets.Text(placeholder=\"Nom d'utilisateur\", description=\"Nom:\")\n",
    "button = widgets.Button(description=\"Recommander\")\n",
    "\n",
    "# Lier le bouton à la fonction de recommandation\n",
    "button.on_click(recommendation)\n",
    "\n",
    "# Affichage des widgets\n",
    "display(nom_utilisateur, button)\n",
    "\n"
   ]
  },
  {
   "cell_type": "markdown",
   "metadata": {},
   "source": [
    "# Visualisation des données"
   ]
  },
  {
   "cell_type": "code",
   "execution_count": 19,
   "metadata": {},
   "outputs": [
    {
     "data": {
      "application/vnd.jupyter.widget-view+json": {
       "model_id": "f212e435e2934bbf923a00868a9a167f",
       "version_major": 2,
       "version_minor": 0
      },
      "text/plain": [
       "Text(value='', description='Nom:', placeholder=\"Nom d'utilisateur\")"
      ]
     },
     "metadata": {},
     "output_type": "display_data"
    },
    {
     "data": {
      "application/vnd.jupyter.widget-view+json": {
       "model_id": "36bc8033385b47318a54d5f4f5980de3",
       "version_major": 2,
       "version_minor": 0
      },
      "text/plain": [
       "Button(description='Visualisation', style=ButtonStyle())"
      ]
     },
     "metadata": {},
     "output_type": "display_data"
    },
    {
     "name": "stdout",
     "output_type": "stream",
     "text": [
      "./cat_images/./cat_images/Q25171691.jpg\n"
     ]
    },
    {
     "ename": "FileNotFoundError",
     "evalue": "[Errno 2] No such file or directory: './cat_images/./cat_images/Q25171691.jpg'",
     "output_type": "error",
     "traceback": [
      "\u001b[0;31m---------------------------------------------------------------------------\u001b[0m",
      "\u001b[0;31mFileNotFoundError\u001b[0m                         Traceback (most recent call last)",
      "Cell \u001b[0;32mIn[19], line 29\u001b[0m, in \u001b[0;36mvisualisation\u001b[0;34m(btn)\u001b[0m\n\u001b[1;32m     27\u001b[0m \u001b[38;5;28;01mif\u001b[39;00m filepath\u001b[38;5;241m.\u001b[39mendswith(\u001b[38;5;124m'\u001b[39m\u001b[38;5;124m.jpg\u001b[39m\u001b[38;5;124m'\u001b[39m):\n\u001b[1;32m     28\u001b[0m     \u001b[38;5;28mprint\u001b[39m(filepath)\n\u001b[0;32m---> 29\u001b[0m     imgfile \u001b[38;5;241m=\u001b[39m \u001b[43mImage\u001b[49m\u001b[38;5;241;43m.\u001b[39;49m\u001b[43mopen\u001b[49m\u001b[43m(\u001b[49m\u001b[43mfilepath\u001b[49m\u001b[43m)\u001b[49m\n\u001b[1;32m     30\u001b[0m     numarray \u001b[38;5;241m=\u001b[39m numpy\u001b[38;5;241m.\u001b[39marray(imgfile\u001b[38;5;241m.\u001b[39mgetdata(), numpy\u001b[38;5;241m.\u001b[39muint8)\n\u001b[1;32m     31\u001b[0m     clusters \u001b[38;5;241m=\u001b[39m KMeans(n_clusters\u001b[38;5;241m=\u001b[39m\u001b[38;5;241m4\u001b[39m, n_init\u001b[38;5;241m=\u001b[39m\u001b[38;5;241m2\u001b[39m)\n",
      "File \u001b[0;32m~/Library/Python/3.11/lib/python/site-packages/PIL/Image.py:3236\u001b[0m, in \u001b[0;36mopen\u001b[0;34m(fp, mode, formats)\u001b[0m\n\u001b[1;32m   3233\u001b[0m     filename \u001b[38;5;241m=\u001b[39m fp\n\u001b[1;32m   3235\u001b[0m \u001b[38;5;28;01mif\u001b[39;00m filename:\n\u001b[0;32m-> 3236\u001b[0m     fp \u001b[38;5;241m=\u001b[39m builtins\u001b[38;5;241m.\u001b[39mopen(filename, \u001b[38;5;124m\"\u001b[39m\u001b[38;5;124mrb\u001b[39m\u001b[38;5;124m\"\u001b[39m)\n\u001b[1;32m   3237\u001b[0m     exclusive_fp \u001b[38;5;241m=\u001b[39m \u001b[38;5;28;01mTrue\u001b[39;00m\n\u001b[1;32m   3239\u001b[0m \u001b[38;5;28;01mtry\u001b[39;00m:\n",
      "\u001b[0;31mFileNotFoundError\u001b[0m: [Errno 2] No such file or directory: './cat_images/./cat_images/Q25171691.jpg'"
     ]
    }
   ],
   "source": [
    "from PIL import Image\n",
    "import numpy\n",
    "import math\n",
    "import matplotlib.pyplot as plot\n",
    "import os\n",
    "from sklearn.cluster import KMeans\n",
    "import json\n",
    "import ipywidgets as widgets\n",
    "\n",
    "chemin_image = ''\n",
    "\n",
    "# Charger les images favorites de l'utilisateur\n",
    "def load_favorite_images(utilisateur):\n",
    "    favoris_path = os.path.join('./', utilisateur, 'favoris', 'favoris.json')\n",
    "    with open(favoris_path, 'r') as f:\n",
    "        liste_fichiers = json.load(f)\n",
    "    # Ajouter le chemin de base pour chaque fichier\n",
    "    liste_fichiers = [os.path.join(chemin_image, f) for f in liste_fichiers]\n",
    "    return liste_fichiers\n",
    "\n",
    "def visualisation(btn):\n",
    "    utilisateur = nom_utilisateur.value.strip()\n",
    "    if utilisateur:\n",
    "        liste_fichiers = load_favorite_images(utilisateur)\n",
    "\n",
    "        for filepath in liste_fichiers:\n",
    "            if filepath.endswith('.jpg'):\n",
    "                print(filepath)\n",
    "                imgfile = Image.open(filepath)\n",
    "                numarray = numpy.array(imgfile.getdata(), numpy.uint8)\n",
    "                clusters = KMeans(n_clusters=4, n_init=2)\n",
    "                clusters.fit(numarray)\n",
    "                npbins = numpy.arange(0, 5)\n",
    "                histogram = numpy.histogram(clusters.labels_, bins=npbins)\n",
    "                labels = numpy.unique(clusters.labels_)\n",
    "                barlist = plot.bar(labels, histogram[0])\n",
    "                for i in range(4):\n",
    "                    barlist[i].set_color(\n",
    "                        \"#%02x%02x%02x\"\n",
    "                        % (\n",
    "                            math.ceil(clusters.cluster_centers_[i][0]),\n",
    "                            math.ceil(clusters.cluster_centers_[i][1]),\n",
    "                            math.ceil(clusters.cluster_centers_[i][2]),\n",
    "                        )\n",
    "                    )\n",
    "                plot.title(filepath, loc='center')\n",
    "                plot.show()\n",
    "\n",
    "# Widgets et bouton\n",
    "nom_utilisateur = widgets.Text(placeholder=\"Nom d'utilisateur\", description=\"Nom:\")\n",
    "button = widgets.Button(description=\"Visualisation\")\n",
    "\n",
    "# Lier le bouton à la fonction de recommandation\n",
    "button.on_click(visualisation)\n",
    "\n",
    "# Affichage des widgets\n",
    "display(nom_utilisateur, button)\n",
    "\n"
   ]
  },
  {
   "cell_type": "code",
   "execution_count": null,
   "metadata": {},
   "outputs": [],
   "source": []
  },
  {
   "cell_type": "markdown",
   "metadata": {},
   "source": [
    "Visualisation des données "
   ]
  },
  {
   "cell_type": "code",
   "execution_count": null,
   "metadata": {},
   "outputs": [
    {
     "ename": "NameError",
     "evalue": "name 'chemin_image' is not defined",
     "output_type": "error",
     "traceback": [
      "\u001b[0;31m---------------------------------------------------------------------------\u001b[0m",
      "\u001b[0;31mNameError\u001b[0m                                 Traceback (most recent call last)",
      "Cell \u001b[0;32mIn[1], line 8\u001b[0m\n\u001b[1;32m      5\u001b[0m \u001b[38;5;28;01mimport\u001b[39;00m \u001b[38;5;21;01mos\u001b[39;00m\n\u001b[1;32m      6\u001b[0m \u001b[38;5;28;01mfrom\u001b[39;00m \u001b[38;5;21;01msklearn\u001b[39;00m\u001b[38;5;21;01m.\u001b[39;00m\u001b[38;5;21;01mcluster\u001b[39;00m \u001b[38;5;28;01mimport\u001b[39;00m KMeans\n\u001b[0;32m----> 8\u001b[0m \u001b[38;5;28;01mfor\u001b[39;00m fichier \u001b[38;5;129;01min\u001b[39;00m os\u001b[38;5;241m.\u001b[39mlistdir(\u001b[43mchemin_image\u001b[49m):\n\u001b[1;32m      9\u001b[0m     \u001b[38;5;28;01mif\u001b[39;00m fichier\u001b[38;5;241m.\u001b[39mendswith(\u001b[38;5;124m'\u001b[39m\u001b[38;5;124m.jpg\u001b[39m\u001b[38;5;124m'\u001b[39m) :\n\u001b[1;32m     10\u001b[0m         filepath \u001b[38;5;241m=\u001b[39m os\u001b[38;5;241m.\u001b[39mpath\u001b[38;5;241m.\u001b[39mjoin(chemin_image, fichier)\n",
      "\u001b[0;31mNameError\u001b[0m: name 'chemin_image' is not defined"
     ]
    }
   ],
   "source": [
    "from PIL import Image\n",
    "import numpy\n",
    "import math\n",
    "import matplotlib.pyplot as plot\n",
    "import os\n",
    "from sklearn.cluster import KMeans\n",
    "\n",
    "for fichier in os.listdir(chemin_image):\n",
    "    if fichier.endswith('.jpg') :\n",
    "        filepath = os.path.join(chemin_image, fichier)\n",
    "        imgfile = Image.open(fichier)\n",
    "        histogram = imgfile.histogram()\n",
    "        red = histogram[0:255]\n",
    "        green = histogram[256:511]\n",
    "        blue = histogram[512:767]\n",
    "        x = range(255)\n",
    "        y = []\n",
    "        for i in x:\n",
    "            y.append((red[i], green[i], blue[i]))\n",
    "        figure, axes = plot.subplots()\n",
    "        axes.set_prop_cycle(\"color\", [\"red\", \"green\", \"blue\"])\n",
    "        plot.plot(x, y)\n",
    "        plot.show()\n"
   ]
  },
  {
   "cell_type": "code",
   "execution_count": null,
   "metadata": {},
   "outputs": [],
   "source": []
  }
 ],
 "metadata": {
  "kernelspec": {
   "display_name": "Python 3 (ipykernel)",
   "language": "python",
   "name": "python3"
  },
  "language_info": {
   "codemirror_mode": {
    "name": "ipython",
    "version": 3
   },
   "file_extension": ".py",
   "mimetype": "text/x-python",
   "name": "python",
   "nbconvert_exporter": "python",
   "pygments_lexer": "ipython3",
   "version": "3.11.3"
  }
 },
 "nbformat": 4,
 "nbformat_minor": 4
}

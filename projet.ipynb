{
 "cells": [
  {
   "cell_type": "markdown",
   "metadata": {},
   "source": [
    "# **Collecte de données**"
   ]
  },
  {
   "cell_type": "code",
   "execution_count": 23,
   "metadata": {},
   "outputs": [],
   "source": [
    "import os, sys\n",
    "from PIL import Image\n",
    "from PIL.ExifTags import TAGS\n",
    "chemin_image='./cattt'\n",
    "for fichier in os.listdir(chemin_image):\n",
    "    if fichier.endswith('.jpg') :\n",
    "        filepath = os.path.join(chemin_image, fichier)\n",
    "        try:\n",
    "            imgfile = Image.open(filepath)\n",
    "            # Recupérer les métadonnées EXIF\n",
    "            exif_data = imgfile._getexif()\n",
    "            if exif_data is None:\n",
    "                 continue\n",
    "            if exif_data:\n",
    "                print(\"Métadonnées pour l'image {filename}:\")\n",
    "            for tag,value in exif_data.items():\n",
    "                if tag in TAGS:\n",
    "                    print(f\"{TAGS[tag]}: {value}\")\n",
    "                else:\n",
    "                    print(f\"Aucune métadonné EXIF disponible pour l'image {imgfile}.\")\n",
    "        except (OSError, AttributeError)as e:\n",
    "                print(f\"Impossible de traiter l'image {imgfile}.{e}\")\n",
    "\n"
   ]
  },
  {
   "cell_type": "markdown",
   "metadata": {},
   "source": [
    "Nous n'avons aucune image avec un exif donc nous passons par uen autre méthode"
   ]
  },
  {
   "cell_type": "code",
   "execution_count": 1,
   "metadata": {},
   "outputs": [],
   "source": [
    "import os, sys\n",
    "from PIL import Image\n",
    "from PIL.ExifTags import TAGS\n",
    "\n",
    "chemin_image='./cattt'\n",
    "chemin_json='./metadonnees_images.json'\n",
    "\n",
    "metadatalist=[]\n",
    "\n",
    "for fichier in os.listdir(chemin_image):\n",
    "    if fichier.endswith('.jpg') :\n",
    "        filepath = os.path.join(chemin_image, fichier)\n",
    "        try:\n",
    "            img = Image.open(filepath)\n",
    "            metadata={\n",
    "                 'file_name': fichier,\n",
    "                 'size': img.size,\n",
    "                 'format': img.format,\n",
    "                 'mode': img.mode,\n",
    "                 'exif': None\n",
    "            }\n",
    "\n",
    "            metadatalist.append(metadata)\n",
    "\n",
    "        except (OSError, AttributeError)as e:\n",
    "                print(f\"Impossible de traiter l'image {imgfile}.{e}\")"
   ]
  },
  {
   "cell_type": "markdown",
   "metadata": {},
   "source": [
    "Après avoir reccuperer les donnees nous demondons aux utilisateurs de choisir des images"
   ]
  },
  {
   "cell_type": "code",
   "execution_count": 3,
   "metadata": {},
   "outputs": [
    {
     "data": {
      "application/vnd.jupyter.widget-view+json": {
       "model_id": "b18d72240a444d90834703b9860fa998",
       "version_major": 2,
       "version_minor": 0
      },
      "text/plain": [
       "GridspecLayout(children=(Image(value=b'\\xff\\xd8\\xff\\xe0\\x00\\x10JFIF\\x00\\x01\\x01\\x01\\x00H\\x00H\\x00\\x00\\xff\\xdb\\…"
      ]
     },
     "metadata": {},
     "output_type": "display_data"
    },
    {
     "data": {
      "application/vnd.jupyter.widget-view+json": {
       "model_id": "336ab1d399ff4377818bfbe8f1e5468e",
       "version_major": 2,
       "version_minor": 0
      },
      "text/plain": [
       "Button(description='Select', style=ButtonStyle())"
      ]
     },
     "metadata": {},
     "output_type": "display_data"
    },
    {
     "data": {
      "application/vnd.jupyter.widget-view+json": {
       "model_id": "29711865b88a4a9ba1085af9e7a88865",
       "version_major": 2,
       "version_minor": 0
      },
      "text/plain": [
       "Output()"
      ]
     },
     "metadata": {},
     "output_type": "display_data"
    },
    {
     "name": "stdout",
     "output_type": "stream",
     "text": [
      "['./cattt/00000003_020.jpg', './cattt/00000007_012.jpg', './cattt/00000015_000.jpg']\n"
     ]
    }
   ],
   "source": [
    "import ipywidgets as widgets\n",
    "import os, sys\n",
    "from PIL import Image\n",
    "\n",
    "from os import listdir\n",
    "\n",
    "chemin_image='./cattt'\n",
    "images = []\n",
    "\n",
    "for file in os.listdir(chemin_image):\n",
    "    if file.endswith('.jpg') :\n",
    "        images.append(\"./cattt/\" + file)\n",
    "\n",
    "from ipywidgets import GridspecLayout, Image, interact\n",
    "paths = []\n",
    "\n",
    "checkboxes = [widgets.Checkbox(value=False, description='Favorite') for _ in range(len(images))]\n",
    "\n",
    "# Create the GridspecLayout widget\n",
    "layout = GridspecLayout(n_columns=2, n_rows=len(images), width='400px')\n",
    "for i, (img, checkbox) in enumerate(zip(images, checkboxes)):\n",
    "  file = open(img, \"rb\")\n",
    "  image = file.read()\n",
    "  image_widget = widgets.Image(\n",
    "    value=image,\n",
    "    format='png',\n",
    "    width=100,\n",
    "    height=100,\n",
    "  )\n",
    "  layout[i,0] = image_widget\n",
    "  layout[i, 1] = checkbox\n",
    "\n",
    "# Button to get selected images\n",
    "button = widgets.Button(description=\"Select\")\n",
    "\n",
    "# Output widget to display selected images\n",
    "output = widgets.Output()\n",
    "\n",
    "# Function to get selected images\n",
    "def get_selected_images(btn):\n",
    "    global paths\n",
    "    paths = []\n",
    "    selected_paths = [images[i] for i, checkbox in enumerate(checkboxes) if checkbox.value]\n",
    "    with output:\n",
    "        output.clear_output()\n",
    "        print(\"Selected Images:\")\n",
    "        for path in selected_paths:\n",
    "            print(path)\n",
    "            paths.append(path)\n",
    "    print(paths)\n",
    "        \n",
    "\n",
    "# Link button click event to function\n",
    "button.on_click(get_selected_images)\n",
    "\n",
    "# Display the layout and button\n",
    "display(layout, button, output)\n"
   ]
  },
  {
   "cell_type": "code",
   "execution_count": 3,
   "metadata": {},
   "outputs": [
    {
     "name": "stdout",
     "output_type": "stream",
     "text": [
      "./cattt/00000016_022.jpg\n"
     ]
    },
    {
     "ename": "AttributeError",
     "evalue": "'Text' object has no attribute 'show'",
     "output_type": "error",
     "traceback": [
      "\u001b[0;31m---------------------------------------------------------------------------\u001b[0m",
      "\u001b[0;31mAttributeError\u001b[0m                            Traceback (most recent call last)",
      "Cell \u001b[0;32mIn[3], line 31\u001b[0m\n\u001b[1;32m     22\u001b[0m \u001b[38;5;28;01mfor\u001b[39;00m i \u001b[38;5;129;01min\u001b[39;00m \u001b[38;5;28mrange\u001b[39m(\u001b[38;5;241m4\u001b[39m):\n\u001b[1;32m     23\u001b[0m     barlist[i]\u001b[38;5;241m.\u001b[39mset_color(\n\u001b[1;32m     24\u001b[0m         \u001b[38;5;124m\"\u001b[39m\u001b[38;5;124m#\u001b[39m\u001b[38;5;132;01m%02x\u001b[39;00m\u001b[38;5;132;01m%02x\u001b[39;00m\u001b[38;5;132;01m%02x\u001b[39;00m\u001b[38;5;124m\"\u001b[39m\n\u001b[1;32m     25\u001b[0m         \u001b[38;5;241m%\u001b[39m (\n\u001b[0;32m   (...)\u001b[0m\n\u001b[1;32m     29\u001b[0m         )\n\u001b[1;32m     30\u001b[0m     )\n\u001b[0;32m---> 31\u001b[0m \u001b[43mplot\u001b[49m\u001b[38;5;241;43m.\u001b[39;49m\u001b[43mtitle\u001b[49m\u001b[43m(\u001b[49m\u001b[43mfilepath\u001b[49m\u001b[43m,\u001b[49m\u001b[43mloc\u001b[49m\u001b[38;5;241;43m=\u001b[39;49m\u001b[38;5;124;43m'\u001b[39;49m\u001b[38;5;124;43mcenter\u001b[39;49m\u001b[38;5;124;43m'\u001b[39;49m\u001b[43m)\u001b[49m\u001b[38;5;241;43m.\u001b[39;49m\u001b[43mshow\u001b[49m()\n",
      "\u001b[0;31mAttributeError\u001b[0m: 'Text' object has no attribute 'show'"
     ]
    },
    {
     "data": {
      "image/png": "[encoded data removed]",
      "text/plain": [
       "<Figure size 640x480 with 1 Axes>"
      ]
     },
     "metadata": {},
     "output_type": "display_data"
    }
   ],
   "source": [
    "from PIL import Image\n",
    "import numpy\n",
    "import math\n",
    "import matplotlib.pyplot as plot\n",
    "import os\n",
    "from sklearn.cluster import KMeans\n",
    "\n",
    "chemin_image='./cattt'\n",
    "\n",
    "for fichier in os.listdir(chemin_image):\n",
    "    if fichier.endswith('.jpg') :\n",
    "        filepath = os.path.join(chemin_image, fichier)\n",
    "        print(filepath)\n",
    "        imgfile = Image.open(filepath)\n",
    "        numarray = numpy.array(imgfile.getdata(), numpy.uint8)\n",
    "        clusters = KMeans(n_clusters=4, n_init=2)\n",
    "        clusters.fit(numarray)\n",
    "        npbins = numpy.arange(0, 5)\n",
    "        histogram = numpy.histogram(clusters.labels_, bins=npbins)\n",
    "        labels = numpy.unique(clusters.labels_)\n",
    "        barlist = plot.bar(labels, histogram[0])\n",
    "        for i in range(4):\n",
    "            barlist[i].set_color(\n",
    "                \"#%02x%02x%02x\"\n",
    "                % (\n",
    "                    math.ceil(clusters.cluster_centers_[i][0]),\n",
    "                    math.ceil(clusters.cluster_centers_[i][1]),\n",
    "                    math.ceil(clusters.cluster_centers_[i][2]),\n",
    "                )\n",
    "            )\n",
    "        plot.title(filepath,loc='center')\n",
    "        plot.show()\n",
    "\n"
   ]
  },
  {
   "cell_type": "code",
   "execution_count": null,
   "metadata": {},
   "outputs": [],
   "source": []
  },
  {
   "cell_type": "markdown",
   "metadata": {},
   "source": [
    "Visualisation des données "
   ]
  },
  {
   "cell_type": "code",
   "execution_count": 10,
   "metadata": {},
   "outputs": [
    {
     "ename": "FileNotFoundError",
     "evalue": "[Errno 2] No such file or directory: '00000016_022.jpg'",
     "output_type": "error",
     "traceback": [
      "\u001b[0;31m---------------------------------------------------------------------------\u001b[0m",
      "\u001b[0;31mFileNotFoundError\u001b[0m                         Traceback (most recent call last)",
      "Cell \u001b[0;32mIn[10], line 11\u001b[0m\n\u001b[1;32m      9\u001b[0m \u001b[38;5;28;01mif\u001b[39;00m fichier\u001b[38;5;241m.\u001b[39mendswith(\u001b[38;5;124m'\u001b[39m\u001b[38;5;124m.jpg\u001b[39m\u001b[38;5;124m'\u001b[39m) :\n\u001b[1;32m     10\u001b[0m     filepath \u001b[38;5;241m=\u001b[39m os\u001b[38;5;241m.\u001b[39mpath\u001b[38;5;241m.\u001b[39mjoin(chemin_image, fichier)\n\u001b[0;32m---> 11\u001b[0m     imgfile \u001b[38;5;241m=\u001b[39m \u001b[43mImage\u001b[49m\u001b[38;5;241;43m.\u001b[39;49m\u001b[43mopen\u001b[49m\u001b[43m(\u001b[49m\u001b[43mfichier\u001b[49m\u001b[43m)\u001b[49m\n\u001b[1;32m     12\u001b[0m     histogram \u001b[38;5;241m=\u001b[39m imgfile\u001b[38;5;241m.\u001b[39mhistogram()\n\u001b[1;32m     13\u001b[0m     red \u001b[38;5;241m=\u001b[39m histogram[\u001b[38;5;241m0\u001b[39m:\u001b[38;5;241m255\u001b[39m]\n",
      "File \u001b[0;32m/mnt/home/users/alix.degironde/documents/ROSE/DataMinning/data_venv/lib/python3.10/site-packages/PIL/Image.py:3247\u001b[0m, in \u001b[0;36mopen\u001b[0;34m(fp, mode, formats)\u001b[0m\n\u001b[1;32m   3244\u001b[0m     filename \u001b[38;5;241m=\u001b[39m fp\n\u001b[1;32m   3246\u001b[0m \u001b[38;5;28;01mif\u001b[39;00m filename:\n\u001b[0;32m-> 3247\u001b[0m     fp \u001b[38;5;241m=\u001b[39m \u001b[43mbuiltins\u001b[49m\u001b[38;5;241;43m.\u001b[39;49m\u001b[43mopen\u001b[49m\u001b[43m(\u001b[49m\u001b[43mfilename\u001b[49m\u001b[43m,\u001b[49m\u001b[43m \u001b[49m\u001b[38;5;124;43m\"\u001b[39;49m\u001b[38;5;124;43mrb\u001b[39;49m\u001b[38;5;124;43m\"\u001b[39;49m\u001b[43m)\u001b[49m\n\u001b[1;32m   3248\u001b[0m     exclusive_fp \u001b[38;5;241m=\u001b[39m \u001b[38;5;28;01mTrue\u001b[39;00m\n\u001b[1;32m   3250\u001b[0m \u001b[38;5;28;01mtry\u001b[39;00m:\n",
      "\u001b[0;31mFileNotFoundError\u001b[0m: [Errno 2] No such file or directory: '00000016_022.jpg'"
     ]
    }
   ],
   "source": [
    "from PIL import Image\n",
    "import numpy\n",
    "import math\n",
    "import matplotlib.pyplot as plot\n",
    "import os\n",
    "from sklearn.cluster import KMeans\n",
    "\n",
    "for fichier in os.listdir(chemin_image):\n",
    "    if fichier.endswith('.jpg') :\n",
    "        filepath = os.path.join(chemin_image, fichier)\n",
    "        imgfile = Image.open(fichier)\n",
    "        histogram = imgfile.histogram()\n",
    "        red = histogram[0:255]\n",
    "        green = histogram[256:511]\n",
    "        blue = histogram[512:767]\n",
    "        x = range(255)\n",
    "        y = []\n",
    "        for i in x:\n",
    "            y.append((red[i], green[i], blue[i]))\n",
    "        figure, axes = plot.subplots()\n",
    "        axes.set_prop_cycle(\"color\", [\"red\", \"green\", \"blue\"])\n",
    "        plot.plot(x, y)\n",
    "        plot.show()\n"
   ]
  },
  {
   "cell_type": "code",
   "execution_count": null,
   "metadata": {},
   "outputs": [],
   "source": []
  }
 ],
 "metadata": {
  "kernelspec": {
   "display_name": "Python 3 (ipykernel)",
   "language": "python",
   "name": "python3"
  },
  "language_info": {
   "codemirror_mode": {
    "name": "ipython",
    "version": 3
   },
   "file_extension": ".py",
   "mimetype": "text/x-python",
   "name": "python",
   "nbconvert_exporter": "python",
   "pygments_lexer": "ipython3",
   "version": "3.10.12"
  }
 },
 "nbformat": 4,
 "nbformat_minor": 4
}
